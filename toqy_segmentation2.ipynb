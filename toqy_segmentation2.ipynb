{
  "nbformat": 4,
  "nbformat_minor": 0,
  "metadata": {
    "colab": {
      "name": "toqy_segmentation2.ipynb",
      "provenance": [],
      "collapsed_sections": [],
      "authorship_tag": "ABX9TyNNSJf1i1Q/F8o7HJKZpKlB",
      "include_colab_link": true
    },
    "kernelspec": {
      "display_name": "Python 3",
      "name": "python3"
    },
    "language_info": {
      "name": "python"
    }
  },
  "cells": [
    {
      "cell_type": "markdown",
      "metadata": {
        "id": "view-in-github",
        "colab_type": "text"
      },
      "source": [
        "<a href=\"https://colab.research.google.com/github/erikaprbwt/toqy_segmentation2/blob/main/toqy_segmentation2.ipynb\" target=\"_parent\"><img src=\"https://colab.research.google.com/assets/colab-badge.svg\" alt=\"Open In Colab\"/></a>"
      ]
    },
    {
      "cell_type": "code",
      "metadata": {
        "colab": {
          "base_uri": "https://localhost:8080/"
        },
        "id": "bO_6L4SU5qvX",
        "outputId": "99557423-9960-4194-91c8-f258fef69d97"
      },
      "source": [
        "#@title Default title text\n",
        "from google.colab import drive\n",
        "drive.mount('/content/drive')"
      ],
      "execution_count": null,
      "outputs": [
        {
          "name": "stdout",
          "output_type": "stream",
          "text": [
            "Drive already mounted at /content/drive; to attempt to forcibly remount, call drive.mount(\"/content/drive\", force_remount=True).\n"
          ]
        }
      ]
    },
    {
      "cell_type": "code",
      "metadata": {
        "id": "nq69vLmp9c7X"
      },
      "source": [
        "import pandas as pd\n",
        "import numpy as np\n",
        "import seaborn as sns\n",
        "import matplotlib.pyplot as plt\n",
        "from sklearn.cluster import KMeans"
      ],
      "execution_count": null,
      "outputs": []
    },
    {
      "cell_type": "code",
      "metadata": {
        "colab": {
          "base_uri": "https://localhost:8080/",
          "height": 206
        },
        "id": "AYVDNFxc-IzU",
        "outputId": "2e000c34-36c3-445d-9e3d-e76ab7745456"
      },
      "source": [
        "df=pd.read_excel(\"/content/drive/MyDrive/toqy.xlsx\")\n",
        "df.head()"
      ],
      "execution_count": null,
      "outputs": [
        {
          "data": {
            "text/html": [
              "<div>\n",
              "<style scoped>\n",
              "    .dataframe tbody tr th:only-of-type {\n",
              "        vertical-align: middle;\n",
              "    }\n",
              "\n",
              "    .dataframe tbody tr th {\n",
              "        vertical-align: top;\n",
              "    }\n",
              "\n",
              "    .dataframe thead th {\n",
              "        text-align: right;\n",
              "    }\n",
              "</style>\n",
              "<table border=\"1\" class=\"dataframe\">\n",
              "  <thead>\n",
              "    <tr style=\"text-align: right;\">\n",
              "      <th></th>\n",
              "      <th>user_pseudo_id</th>\n",
              "      <th>Sum of engagement_time_msec</th>\n",
              "      <th>Sum of event_value_in_usd</th>\n",
              "      <th>frequency_buying_product</th>\n",
              "      <th>x1</th>\n",
              "      <th>x2</th>\n",
              "      <th>x3</th>\n",
              "    </tr>\n",
              "  </thead>\n",
              "  <tbody>\n",
              "    <tr>\n",
              "      <th>0</th>\n",
              "      <td>97087a714235da4f8e06138a0aafbe55</td>\n",
              "      <td>23940685</td>\n",
              "      <td>14929152</td>\n",
              "      <td>3</td>\n",
              "      <td>2.911717</td>\n",
              "      <td>38.553385</td>\n",
              "      <td>15.919295</td>\n",
              "    </tr>\n",
              "    <tr>\n",
              "      <th>1</th>\n",
              "      <td>23ef23dc9b2f469ed63ec5db1c1acda0</td>\n",
              "      <td>13225140</td>\n",
              "      <td>11122814</td>\n",
              "      <td>2</td>\n",
              "      <td>1.293688</td>\n",
              "      <td>28.706050</td>\n",
              "      <td>10.587626</td>\n",
              "    </tr>\n",
              "    <tr>\n",
              "      <th>2</th>\n",
              "      <td>3546e07e1415b13e4b2b6d278648a806</td>\n",
              "      <td>6762185</td>\n",
              "      <td>8345597</td>\n",
              "      <td>2</td>\n",
              "      <td>0.317792</td>\n",
              "      <td>21.521144</td>\n",
              "      <td>10.587626</td>\n",
              "    </tr>\n",
              "    <tr>\n",
              "      <th>3</th>\n",
              "      <td>287e409fe1a3ff848fc7266f2e609332</td>\n",
              "      <td>29352642</td>\n",
              "      <td>8345597</td>\n",
              "      <td>3</td>\n",
              "      <td>3.728914</td>\n",
              "      <td>21.521144</td>\n",
              "      <td>15.919295</td>\n",
              "    </tr>\n",
              "    <tr>\n",
              "      <th>4</th>\n",
              "      <td>a294a4786ce66b98a3424457a26cfb2f</td>\n",
              "      <td>12044525</td>\n",
              "      <td>8115477</td>\n",
              "      <td>4</td>\n",
              "      <td>1.115417</td>\n",
              "      <td>20.925803</td>\n",
              "      <td>21.250963</td>\n",
              "    </tr>\n",
              "  </tbody>\n",
              "</table>\n",
              "</div>"
            ],
            "text/plain": [
              "                     user_pseudo_id  ...         x3\n",
              "0  97087a714235da4f8e06138a0aafbe55  ...  15.919295\n",
              "1  23ef23dc9b2f469ed63ec5db1c1acda0  ...  10.587626\n",
              "2  3546e07e1415b13e4b2b6d278648a806  ...  10.587626\n",
              "3  287e409fe1a3ff848fc7266f2e609332  ...  15.919295\n",
              "4  a294a4786ce66b98a3424457a26cfb2f  ...  21.250963\n",
              "\n",
              "[5 rows x 7 columns]"
            ]
          },
          "execution_count": 71,
          "metadata": {},
          "output_type": "execute_result"
        }
      ]
    },
    {
      "cell_type": "code",
      "metadata": {
        "colab": {
          "base_uri": "https://localhost:8080/"
        },
        "id": "n3cRo4MF-4HU",
        "outputId": "4fb6a411-dba6-4a2c-8177-6ad0778a0b24"
      },
      "source": [
        "df.info()"
      ],
      "execution_count": null,
      "outputs": [
        {
          "name": "stdout",
          "output_type": "stream",
          "text": [
            "<class 'pandas.core.frame.DataFrame'>\n",
            "RangeIndex: 9015 entries, 0 to 9014\n",
            "Data columns (total 7 columns):\n",
            " #   Column                       Non-Null Count  Dtype  \n",
            "---  ------                       --------------  -----  \n",
            " 0   user_pseudo_id               9015 non-null   object \n",
            " 1   Sum of engagement_time_msec  9015 non-null   int64  \n",
            " 2   Sum of event_value_in_usd    9015 non-null   int64  \n",
            " 3   frequency_buying_product     9015 non-null   int64  \n",
            " 4   x1                           9015 non-null   float64\n",
            " 5   x2                           9015 non-null   float64\n",
            " 6   x3                           9015 non-null   float64\n",
            "dtypes: float64(3), int64(3), object(1)\n",
            "memory usage: 493.1+ KB\n"
          ]
        }
      ]
    },
    {
      "cell_type": "code",
      "metadata": {
        "colab": {
          "base_uri": "https://localhost:8080/",
          "height": 206
        },
        "id": "nOu6Zzhd_IK9",
        "outputId": "08f9153a-2017-4587-9250-ebef65dd70f4"
      },
      "source": [
        "num=['x1','x2','x3']\n",
        "df.head()"
      ],
      "execution_count": null,
      "outputs": [
        {
          "data": {
            "text/html": [
              "<div>\n",
              "<style scoped>\n",
              "    .dataframe tbody tr th:only-of-type {\n",
              "        vertical-align: middle;\n",
              "    }\n",
              "\n",
              "    .dataframe tbody tr th {\n",
              "        vertical-align: top;\n",
              "    }\n",
              "\n",
              "    .dataframe thead th {\n",
              "        text-align: right;\n",
              "    }\n",
              "</style>\n",
              "<table border=\"1\" class=\"dataframe\">\n",
              "  <thead>\n",
              "    <tr style=\"text-align: right;\">\n",
              "      <th></th>\n",
              "      <th>user_pseudo_id</th>\n",
              "      <th>Sum of engagement_time_msec</th>\n",
              "      <th>Sum of event_value_in_usd</th>\n",
              "      <th>frequency_buying_product</th>\n",
              "      <th>x1</th>\n",
              "      <th>x2</th>\n",
              "      <th>x3</th>\n",
              "    </tr>\n",
              "  </thead>\n",
              "  <tbody>\n",
              "    <tr>\n",
              "      <th>0</th>\n",
              "      <td>97087a714235da4f8e06138a0aafbe55</td>\n",
              "      <td>23940685</td>\n",
              "      <td>14929152</td>\n",
              "      <td>3</td>\n",
              "      <td>2.911717</td>\n",
              "      <td>38.553385</td>\n",
              "      <td>15.919295</td>\n",
              "    </tr>\n",
              "    <tr>\n",
              "      <th>1</th>\n",
              "      <td>23ef23dc9b2f469ed63ec5db1c1acda0</td>\n",
              "      <td>13225140</td>\n",
              "      <td>11122814</td>\n",
              "      <td>2</td>\n",
              "      <td>1.293688</td>\n",
              "      <td>28.706050</td>\n",
              "      <td>10.587626</td>\n",
              "    </tr>\n",
              "    <tr>\n",
              "      <th>2</th>\n",
              "      <td>3546e07e1415b13e4b2b6d278648a806</td>\n",
              "      <td>6762185</td>\n",
              "      <td>8345597</td>\n",
              "      <td>2</td>\n",
              "      <td>0.317792</td>\n",
              "      <td>21.521144</td>\n",
              "      <td>10.587626</td>\n",
              "    </tr>\n",
              "    <tr>\n",
              "      <th>3</th>\n",
              "      <td>287e409fe1a3ff848fc7266f2e609332</td>\n",
              "      <td>29352642</td>\n",
              "      <td>8345597</td>\n",
              "      <td>3</td>\n",
              "      <td>3.728914</td>\n",
              "      <td>21.521144</td>\n",
              "      <td>15.919295</td>\n",
              "    </tr>\n",
              "    <tr>\n",
              "      <th>4</th>\n",
              "      <td>a294a4786ce66b98a3424457a26cfb2f</td>\n",
              "      <td>12044525</td>\n",
              "      <td>8115477</td>\n",
              "      <td>4</td>\n",
              "      <td>1.115417</td>\n",
              "      <td>20.925803</td>\n",
              "      <td>21.250963</td>\n",
              "    </tr>\n",
              "  </tbody>\n",
              "</table>\n",
              "</div>"
            ],
            "text/plain": [
              "                     user_pseudo_id  ...         x3\n",
              "0  97087a714235da4f8e06138a0aafbe55  ...  15.919295\n",
              "1  23ef23dc9b2f469ed63ec5db1c1acda0  ...  10.587626\n",
              "2  3546e07e1415b13e4b2b6d278648a806  ...  10.587626\n",
              "3  287e409fe1a3ff848fc7266f2e609332  ...  15.919295\n",
              "4  a294a4786ce66b98a3424457a26cfb2f  ...  21.250963\n",
              "\n",
              "[5 rows x 7 columns]"
            ]
          },
          "execution_count": 72,
          "metadata": {},
          "output_type": "execute_result"
        }
      ]
    },
    {
      "cell_type": "code",
      "metadata": {
        "colab": {
          "base_uri": "https://localhost:8080/"
        },
        "id": "o2W3Z7-m_uTV",
        "outputId": "e89532f8-dfdd-4b44-c201-df2e3e0efa44"
      },
      "source": [
        "df_array=np.array(df[num])\n",
        "print(df_array)"
      ],
      "execution_count": null,
      "outputs": [
        {
          "name": "stdout",
          "output_type": "stream",
          "text": [
            "[[ 2.91171712 38.55338459 15.91929457]\n",
            " [ 1.29368762 28.70605047 10.58762625]\n",
            " [ 0.31779215 21.52114369 10.58762625]\n",
            " ...\n",
            " [-0.70328655 -0.06965618 -0.0757104 ]\n",
            " [-0.70328655 -0.06965618 -0.0757104 ]\n",
            " [-0.70328655 -0.06965618 -0.0757104 ]]\n"
          ]
        }
      ]
    },
    {
      "cell_type": "code",
      "metadata": {
        "colab": {
          "base_uri": "https://localhost:8080/"
        },
        "id": "5Oxq2bIiA5Cl",
        "outputId": "f8234b30-9108-4a23-be7e-02ac4b358ab8"
      },
      "source": [
        "kmeans=KMeans(n_clusters=5, random_state=123)\n",
        "kmeans.fit(df[num])"
      ],
      "execution_count": null,
      "outputs": [
        {
          "data": {
            "text/plain": [
              "KMeans(n_clusters=5, random_state=123)"
            ]
          },
          "execution_count": 74,
          "metadata": {},
          "output_type": "execute_result"
        }
      ]
    },
    {
      "cell_type": "code",
      "metadata": {
        "colab": {
          "base_uri": "https://localhost:8080/"
        },
        "id": "Yr8F0TZcBR0f",
        "outputId": "9ba1c7c8-60d5-47d8-ab2b-5815441ec1f9"
      },
      "source": [
        "print(kmeans.cluster_centers_)"
      ],
      "execution_count": null,
      "outputs": [
        {
          "name": "stdout",
          "output_type": "stream",
          "text": [
            "[[-0.49061617 -0.06965618 -0.0757104 ]\n",
            " [ 1.88808192  7.46320056  7.71021794]\n",
            " [ 3.19599649 -0.06236633 -0.02444436]\n",
            " [ 2.56895043 23.02330507 19.25158727]\n",
            " [ 0.80715599 -0.06766878 -0.06041881]]\n"
          ]
        }
      ]
    },
    {
      "cell_type": "code",
      "metadata": {
        "colab": {
          "base_uri": "https://localhost:8080/",
          "height": 224
        },
        "id": "lndrnBkdBYQ9",
        "outputId": "84dc0edf-0b27-4a7b-8a8f-df176bfcc43f"
      },
      "source": [
        "print(kmeans.labels_)\n",
        "df['cluster']=kmeans.labels_\n",
        "df.head()"
      ],
      "execution_count": null,
      "outputs": [
        {
          "name": "stdout",
          "output_type": "stream",
          "text": [
            "[3 3 3 ... 0 0 0]\n"
          ]
        },
        {
          "data": {
            "text/html": [
              "<div>\n",
              "<style scoped>\n",
              "    .dataframe tbody tr th:only-of-type {\n",
              "        vertical-align: middle;\n",
              "    }\n",
              "\n",
              "    .dataframe tbody tr th {\n",
              "        vertical-align: top;\n",
              "    }\n",
              "\n",
              "    .dataframe thead th {\n",
              "        text-align: right;\n",
              "    }\n",
              "</style>\n",
              "<table border=\"1\" class=\"dataframe\">\n",
              "  <thead>\n",
              "    <tr style=\"text-align: right;\">\n",
              "      <th></th>\n",
              "      <th>user_pseudo_id</th>\n",
              "      <th>Sum of engagement_time_msec</th>\n",
              "      <th>Sum of event_value_in_usd</th>\n",
              "      <th>frequency_buying_product</th>\n",
              "      <th>x1</th>\n",
              "      <th>x2</th>\n",
              "      <th>x3</th>\n",
              "      <th>cluster</th>\n",
              "    </tr>\n",
              "  </thead>\n",
              "  <tbody>\n",
              "    <tr>\n",
              "      <th>0</th>\n",
              "      <td>97087a714235da4f8e06138a0aafbe55</td>\n",
              "      <td>23940685</td>\n",
              "      <td>14929152</td>\n",
              "      <td>3</td>\n",
              "      <td>2.911717</td>\n",
              "      <td>38.553385</td>\n",
              "      <td>15.919295</td>\n",
              "      <td>3</td>\n",
              "    </tr>\n",
              "    <tr>\n",
              "      <th>1</th>\n",
              "      <td>23ef23dc9b2f469ed63ec5db1c1acda0</td>\n",
              "      <td>13225140</td>\n",
              "      <td>11122814</td>\n",
              "      <td>2</td>\n",
              "      <td>1.293688</td>\n",
              "      <td>28.706050</td>\n",
              "      <td>10.587626</td>\n",
              "      <td>3</td>\n",
              "    </tr>\n",
              "    <tr>\n",
              "      <th>2</th>\n",
              "      <td>3546e07e1415b13e4b2b6d278648a806</td>\n",
              "      <td>6762185</td>\n",
              "      <td>8345597</td>\n",
              "      <td>2</td>\n",
              "      <td>0.317792</td>\n",
              "      <td>21.521144</td>\n",
              "      <td>10.587626</td>\n",
              "      <td>3</td>\n",
              "    </tr>\n",
              "    <tr>\n",
              "      <th>3</th>\n",
              "      <td>287e409fe1a3ff848fc7266f2e609332</td>\n",
              "      <td>29352642</td>\n",
              "      <td>8345597</td>\n",
              "      <td>3</td>\n",
              "      <td>3.728914</td>\n",
              "      <td>21.521144</td>\n",
              "      <td>15.919295</td>\n",
              "      <td>3</td>\n",
              "    </tr>\n",
              "    <tr>\n",
              "      <th>4</th>\n",
              "      <td>a294a4786ce66b98a3424457a26cfb2f</td>\n",
              "      <td>12044525</td>\n",
              "      <td>8115477</td>\n",
              "      <td>4</td>\n",
              "      <td>1.115417</td>\n",
              "      <td>20.925803</td>\n",
              "      <td>21.250963</td>\n",
              "      <td>3</td>\n",
              "    </tr>\n",
              "  </tbody>\n",
              "</table>\n",
              "</div>"
            ],
            "text/plain": [
              "                     user_pseudo_id  ...  cluster\n",
              "0  97087a714235da4f8e06138a0aafbe55  ...        3\n",
              "1  23ef23dc9b2f469ed63ec5db1c1acda0  ...        3\n",
              "2  3546e07e1415b13e4b2b6d278648a806  ...        3\n",
              "3  287e409fe1a3ff848fc7266f2e609332  ...        3\n",
              "4  a294a4786ce66b98a3424457a26cfb2f  ...        3\n",
              "\n",
              "[5 rows x 8 columns]"
            ]
          },
          "execution_count": 76,
          "metadata": {},
          "output_type": "execute_result"
        }
      ]
    },
    {
      "cell_type": "code",
      "metadata": {
        "colab": {
          "base_uri": "https://localhost:8080/"
        },
        "id": "NVnl1o5uC_Jp",
        "outputId": "72daa0d6-61ec-4ddb-9271-d95b9c44148c"
      },
      "source": [
        "df['cluster']=df['cluster'].astype(str)\n",
        "df.info()"
      ],
      "execution_count": null,
      "outputs": [
        {
          "name": "stdout",
          "output_type": "stream",
          "text": [
            "<class 'pandas.core.frame.DataFrame'>\n",
            "RangeIndex: 9015 entries, 0 to 9014\n",
            "Data columns (total 8 columns):\n",
            " #   Column                       Non-Null Count  Dtype  \n",
            "---  ------                       --------------  -----  \n",
            " 0   user_pseudo_id               9015 non-null   object \n",
            " 1   Sum of engagement_time_msec  9015 non-null   int64  \n",
            " 2   Sum of event_value_in_usd    9015 non-null   int64  \n",
            " 3   frequency_buying_product     9015 non-null   int64  \n",
            " 4   x1                           9015 non-null   float64\n",
            " 5   x2                           9015 non-null   float64\n",
            " 6   x3                           9015 non-null   float64\n",
            " 7   cluster                      9015 non-null   object \n",
            "dtypes: float64(3), int64(3), object(2)\n",
            "memory usage: 563.6+ KB\n"
          ]
        }
      ]
    },
    {
      "cell_type": "code",
      "metadata": {
        "colab": {
          "base_uri": "https://localhost:8080/",
          "height": 404
        },
        "id": "daOJXKshKqX7",
        "outputId": "c5cba692-5650-4b3a-f55d-af7cf72b6f4c"
      },
      "source": [
        "plt.figure(figsize=(10,6))\n",
        "ax = sns.countplot(x=df['cluster'], data=df['cluster'])\n",
        "plt.title('Toqy User Segmentation')\n",
        "plt.xlabel('Number of Cluster')\n",
        "plt.ylabel('Frequency')\n",
        "\n",
        "for p in ax.patches:\n",
        "        ax.annotate('{:.0f}'.format(p.get_height()), (p.get_x()+0.250, p.get_height()+50))"
      ],
      "execution_count": null,
      "outputs": [
        {
          "data": {
            "image/png": "[encoded data removed]",
            "text/plain": [
              "<Figure size 720x432 with 1 Axes>"
            ]
          },
          "metadata": {},
          "output_type": "display_data"
        }
      ]
    },
    {
      "cell_type": "code",
      "metadata": {
        "colab": {
          "base_uri": "https://localhost:8080/",
          "height": 206
        },
        "id": "1b0x0Y1eI0hO",
        "outputId": "529b5ae6-802a-4fb4-bb8d-2153365b1f86"
      },
      "source": [
        "df.groupby('cluster')['user_pseudo_id'].count().reset_index()"
      ],
      "execution_count": null,
      "outputs": [
        {
          "data": {
            "text/html": [
              "<div>\n",
              "<style scoped>\n",
              "    .dataframe tbody tr th:only-of-type {\n",
              "        vertical-align: middle;\n",
              "    }\n",
              "\n",
              "    .dataframe tbody tr th {\n",
              "        vertical-align: top;\n",
              "    }\n",
              "\n",
              "    .dataframe thead th {\n",
              "        text-align: right;\n",
              "    }\n",
              "</style>\n",
              "<table border=\"1\" class=\"dataframe\">\n",
              "  <thead>\n",
              "    <tr style=\"text-align: right;\">\n",
              "      <th></th>\n",
              "      <th>cluster</th>\n",
              "      <th>user_pseudo_id</th>\n",
              "    </tr>\n",
              "  </thead>\n",
              "  <tbody>\n",
              "    <tr>\n",
              "      <th>0</th>\n",
              "      <td>0</td>\n",
              "      <td>6439</td>\n",
              "    </tr>\n",
              "    <tr>\n",
              "      <th>1</th>\n",
              "      <td>1</td>\n",
              "      <td>63</td>\n",
              "    </tr>\n",
              "    <tr>\n",
              "      <th>2</th>\n",
              "      <td>2</td>\n",
              "      <td>416</td>\n",
              "    </tr>\n",
              "    <tr>\n",
              "      <th>3</th>\n",
              "      <td>3</td>\n",
              "      <td>8</td>\n",
              "    </tr>\n",
              "    <tr>\n",
              "      <th>4</th>\n",
              "      <td>4</td>\n",
              "      <td>2089</td>\n",
              "    </tr>\n",
              "  </tbody>\n",
              "</table>\n",
              "</div>"
            ],
            "text/plain": [
              "  cluster  user_pseudo_id\n",
              "0       0            6439\n",
              "1       1              63\n",
              "2       2             416\n",
              "3       3               8\n",
              "4       4            2089"
            ]
          },
          "execution_count": 49,
          "metadata": {},
          "output_type": "execute_result"
        }
      ]
    },
    {
      "cell_type": "code",
      "metadata": {
        "colab": {
          "base_uri": "https://localhost:8080/",
          "height": 17
        },
        "id": "8Jt5iHAJan3k",
        "outputId": "b7d9fb50-daae-483b-fe18-6489f8cfc1d6"
      },
      "source": [
        "from google.colab import files\n",
        "df.to_excel('export_toqy.xlsx')\n",
        "files.download('export_toqy.xlsx')"
      ],
      "execution_count": null,
      "outputs": [
        {
          "data": {
            "application/javascript": [
              "\n",
              "    async function download(id, filename, size) {\n",
              "      if (!google.colab.kernel.accessAllowed) {\n",
              "        return;\n",
              "      }\n",
              "      const div = document.createElement('div');\n",
              "      const label = document.createElement('label');\n",
              "      label.textContent = `Downloading \"${filename}\": `;\n",
              "      div.appendChild(label);\n",
              "      const progress = document.createElement('progress');\n",
              "      progress.max = size;\n",
              "      div.appendChild(progress);\n",
              "      document.body.appendChild(div);\n",
              "\n",
              "      const buffers = [];\n",
              "      let downloaded = 0;\n",
              "\n",
              "      const channel = await google.colab.kernel.comms.open(id);\n",
              "      // Send a message to notify the kernel that we're ready.\n",
              "      channel.send({})\n",
              "\n",
              "      for await (const message of channel.messages) {\n",
              "        // Send a message to notify the kernel that we're ready.\n",
              "        channel.send({})\n",
              "        if (message.buffers) {\n",
              "          for (const buffer of message.buffers) {\n",
              "            buffers.push(buffer);\n",
              "            downloaded += buffer.byteLength;\n",
              "            progress.value = downloaded;\n",
              "          }\n",
              "        }\n",
              "      }\n",
              "      const blob = new Blob(buffers, {type: 'application/binary'});\n",
              "      const a = document.createElement('a');\n",
              "      a.href = window.URL.createObjectURL(blob);\n",
              "      a.download = filename;\n",
              "      div.appendChild(a);\n",
              "      a.click();\n",
              "      div.remove();\n",
              "    }\n",
              "  "
            ],
            "text/plain": [
              "<IPython.core.display.Javascript object>"
            ]
          },
          "metadata": {},
          "output_type": "display_data"
        },
        {
          "data": {
            "application/javascript": [
              "download(\"download_aa4cfd58-b5ce-4f0b-8fff-8abbbd9db94b\", \"export_toqy.xlsx\", 640604)"
            ],
            "text/plain": [
              "<IPython.core.display.Javascript object>"
            ]
          },
          "metadata": {},
          "output_type": "display_data"
        }
      ]
    }
  ]
}